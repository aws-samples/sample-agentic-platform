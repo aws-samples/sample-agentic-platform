{
 "cells": [
  {
   "cell_type": "markdown",
   "metadata": {},
   "source": [
    "# 📁 File Operations Using Code Interpreter\n",
    "\n",
    "Welcome to the File Operations module using AWS Bedrock AgentCore Code Interpreter! This notebook demonstrates comprehensive file operations including reading, writing, and processing files using both boto3 and AgentCore SDK.\n",
    "\n",
    "## 🎯 Learning Objectives\n",
    "\n",
    "In this notebook, you'll learn how to:\n",
    "\n",
    "- 🔧 Set up and use AgentCore Code Interpreter for file operations\n",
    "- 📄 Read and write files using Code Interpreter's file management tools\n",
    "- 📊 Process JSON and CSV files with both JavaScript and Python\n",
    "- 🔄 Use both boto3 and AgentCore SDK for file I/O operations\n",
    "- 🏗️ Implement complete file workflows including upload, process, and verify\n",
    "\n",
    "## 📋 Prerequisites\n",
    "\n",
    "- AWS account with access to Amazon Bedrock AgentCore\n",
    "- Proper IAM permissions for AgentCore services\n",
    "- Python 3.12 environment with required dependencies\n",
    "\n",
    "Let's begin! 🚀"
   ]
  },
  {
   "cell_type": "markdown",
   "metadata": {},
   "source": [
    "## Amazon Bedrock AgentCore Code Interpreter\n",
    "\n",
    "\n",
    "The Amazon Bedrock AgentCore Code Interpreter enables AI agents to write and execute code securely in sandbox environments, enhancing their accuracy and expanding their ability to solve complex end-to-end tasks. This is critical in Agentic AI applications where the agents may execute arbitrary code that can lead to data compromise or security risks. The AgentCore Code Interpreter tool provides secure code execution, which helps you avoid running into these issues.\n",
    "\n",
    "The Code Interpreter comes with pre-built runtimes for multiple languages and advanced features, including large file support and internet access, and CloudTrail logging capabilities. For inline upload, the file size can be up to 100 MB. And for uploading to Amazon S3 through terminal commands, the file size can be as large as 5 GB.\n",
    "\n",
    "Developers can customize environments with session properties and network modes to meet their enterprise and security requirements. The AgentCore Code Interpreter reduces manual intervention while enabling sophisticated AI development without compromising security or performance.\n",
    "\n",
    "![Amazon Bedrock AgentCore Code Interpreter Architecture](../../../media/agent_core_code_interpreter_arch.png)"
   ]
  },
  {
   "cell_type": "markdown",
   "metadata": {},
   "source": [
    "## 🔧 Section 1: Environment Setup"
   ]
  },
  {
   "cell_type": "code",
   "execution_count": null,
   "metadata": {},
   "outputs": [],
   "source": [
    "# 🔧 Environment Setup Instructions\n",
    "\n",
    "# IMPORTANT: This notebook requires Python 3.12.8 as specified in pyproject.toml\n",
    "# All dependencies are managed via UV (recommended approach for this project)\n",
    "\n",
    "# SETUP STEPS:\n",
    "# 1. Create virtual environment: uv venv\n",
    "# 2. Install all dependencies: uv sync\n",
    "# 3. Launch Jupyter Lab: uv run jupyter lab\n",
    "\n",
    "# FOR VS CODE USERS:\n",
    "# 1. Run: uv run python -c \"import sys; print(sys.executable)\"\n",
    "# 2. Copy the path and select it as your Python interpreter in VS Code\n",
    "# 3. The kernel should now have access to all required dependencies\n",
    "\n",
    "# Verify environment setup\n",
    "import sys\n",
    "print(f\"✅ Python version: {sys.version}\")\n",
    "print(f\"✅ Python executable: {sys.executable}\")\n",
    "print(\"✅ Environment setup complete! All dependencies should be available via UV.\")"
   ]
  },
  {
   "cell_type": "code",
   "execution_count": null,
   "metadata": {},
   "outputs": [],
   "source": [
    "# Import core dependencies\n",
    "import boto3\n",
    "import json\n",
    "import os\n",
    "import time\n",
    "from typing import Dict, Any, List, Optional\n",
    "\n",
    "# Import AgentCore SDK\n",
    "from bedrock_agentcore.tools.code_interpreter_client import CodeInterpreter, code_session\n",
    "\n",
    "# Import existing Module 3 components\n",
    "from agentic_platform.core.models.memory_models import Message, SessionContext\n",
    "from agentic_platform.core.models.llm_models import LLMRequest, LLMResponse\n",
    "from agentic_platform.core.models.api_models import AgenticRequest, AgenticResponse\n",
    "\n",
    "print(\"✅ Dependencies imported successfully!\")"
   ]
  },
  {
   "cell_type": "code",
   "execution_count": null,
   "metadata": {},
   "outputs": [],
   "source": [
    "# Initialize AWS clients with specific profile\n",
    "profile_name = \"XXXXXX\" # your aws profile name\n",
    "session = boto3.Session(profile_name=profile_name)\n",
    "region_name = \"us-west-2\"\n",
    "\n",
    "# Verify credentials are working\n",
    "try:\n",
    "    credentials = session.get_credentials()\n",
    "    print(f\"✅ Using AWS profile: {profile_name}\")\n",
    "    print(f\"✅ Access Key: {credentials.access_key[:10]}...\")\n",
    "    print(f\"✅ Region: {region_name}\")\n",
    "except Exception as e:\n",
    "    print(f\"❌ Error with AWS credentials: {e}\")\n",
    "    raise\n",
    "\n",
    "# Standard AgentCore client\n",
    "bedrock_agentcore_client = session.client(\n",
    "    'bedrock-agentcore',\n",
    "    region_name=region_name,\n",
    "    endpoint_url=f\"https://bedrock-agentcore.{region_name}.amazonaws.com\"\n",
    ")\n",
    "\n",
    "# Set environment variables for AgentCore SDK\n",
    "os.environ['AWS_ACCESS_KEY_ID'] = credentials.access_key\n",
    "os.environ['AWS_SECRET_ACCESS_KEY'] = credentials.secret_key\n",
    "if credentials.token:\n",
    "    os.environ['AWS_SESSION_TOKEN'] = credentials.token\n",
    "os.environ['AWS_DEFAULT_REGION'] = region_name\n",
    "\n",
    "print(\"✅ AWS clients initialized successfully with profile!\")"
   ]
  },
  {
   "cell_type": "markdown",
   "metadata": {},
   "source": [
    "## 📄 Section 2: Sample Data Preparation\n",
    "\n",
    "Let's prepare sample data files that we'll use throughout this notebook."
   ]
  },
  {
   "cell_type": "code",
   "execution_count": null,
   "metadata": {},
   "outputs": [],
   "source": [
    "# Prepare sample CSV data\n",
    "sample_csv_data = \"\"\"name,age,city,occupation\n",
    "Alice Johnson,28,New York,Software Engineer\n",
    "Bob Smith,35,San Francisco,Data Scientist\n",
    "Carol Williams,42,Chicago,Product Manager\n",
    "David Brown,31,Austin,DevOps Engineer\n",
    "Emma Davis,26,Seattle,UX Designer\"\"\"\n",
    "\n",
    "# Prepare sample Python analysis script\n",
    "stats_py_content = \"\"\"import csv\n",
    "from io import StringIO\n",
    "\n",
    "# Read the CSV data\n",
    "with open('data.csv', 'r') as file:\n",
    "    csv_reader = csv.DictReader(file)\n",
    "    data = list(csv_reader)\n",
    "\n",
    "# Calculate statistics\n",
    "total_people = len(data)\n",
    "ages = [int(row['age']) for row in data]\n",
    "avg_age = sum(ages) / len(ages)\n",
    "min_age = min(ages)\n",
    "max_age = max(ages)\n",
    "\n",
    "# Count by city\n",
    "cities = {}\n",
    "for row in data:\n",
    "    city = row['city']\n",
    "    cities[city] = cities.get(city, 0) + 1\n",
    "\n",
    "# Print results\n",
    "print(f\\\"Dataset Statistics:\\\")\n",
    "print(f\\\"==================\\\")\n",
    "print(f\\\"Total people: {total_people}\\\")\n",
    "print(f\\\"Average age: {avg_age:.1f}\\\")\n",
    "print(f\\\"Age range: {min_age} - {max_age}\\\")\n",
    "print(f\\\"\\\\nPeople by city:\\\")\n",
    "for city, count in cities.items():\n",
    "    print(f\\\"  {city}: {count}\\\")\n",
    "\n",
    "# Create a summary report\n",
    "report = {\n",
    "    'total_records': total_people,\n",
    "    'average_age': round(avg_age, 2),\n",
    "    'age_range': {'min': min_age, 'max': max_age},\n",
    "    'city_distribution': cities\n",
    "}\n",
    "\n",
    "print(f\\\"\\\\nSummary report generated successfully!\\\")\n",
    "print(f\\\"Report: {report}\\\")\n",
    "\"\"\"\n",
    "\n",
    "# Prepare sample JSON data\n",
    "sample_json_data = json.dumps({\n",
    "    \"project\": \"File Operations Demo\",\n",
    "    \"version\": \"1.0.0\",\n",
    "    \"features\": [\"read\", \"write\", \"process\", \"analyze\"],\n",
    "    \"config\": {\n",
    "        \"debug\": False,\n",
    "        \"timeout\": 300,\n",
    "        \"max_retries\": 3\n",
    "    }\n",
    "}, indent=2)\n",
    "\n",
    "print(\"✅ Sample data prepared:\")\n",
    "print(f\"  - CSV data: {len(sample_csv_data)} bytes\")\n",
    "print(f\"  - Python script: {len(stats_py_content)} bytes\")\n",
    "print(f\"  - JSON data: {len(sample_json_data)} bytes\")"
   ]
  },
  {
   "cell_type": "markdown",
   "metadata": {},
   "source": [
    "## 🔧 Section 3: File Operations with Boto3\n",
    "\n",
    "This section demonstrates file read/write operations using boto3 direct API calls following the pattern from the provided example."
   ]
  },
  {
   "cell_type": "code",
   "execution_count": null,
   "metadata": {},
   "outputs": [],
   "source": [
    "def call_tool_boto3(session_id: str, tool_name: str, arguments: Dict[str, Any]) -> Dict[str, Any]:\n",
    "    \"\"\"Helper function to call Code Interpreter tools using boto3\"\"\"\n",
    "    response = bedrock_agentcore_client.invoke_code_interpreter(\n",
    "        codeInterpreterIdentifier=\"aws.codeinterpreter.v1\",\n",
    "        sessionId=session_id,\n",
    "        name=tool_name,\n",
    "        arguments=arguments\n",
    "    )\n",
    "    \n",
    "    for event in response[\"stream\"]:\n",
    "        if \"result\" in event:\n",
    "            return event[\"result\"]\n",
    "    return {}"
   ]
  },
  {
   "cell_type": "code",
   "execution_count": null,
   "metadata": {},
   "outputs": [],
   "source": [
    "# Start boto3 Code Interpreter session\n",
    "print(\"🚀 Starting boto3 Code Interpreter session...\")\n",
    "session_response = bedrock_agentcore_client.start_code_interpreter_session(\n",
    "    codeInterpreterIdentifier=\"aws.codeinterpreter.v1\",\n",
    "    name=\"boto3-file-ops-session\",\n",
    "    sessionTimeoutSeconds=300\n",
    ")\n",
    "boto3_session_id = session_response[\"sessionId\"]\n",
    "print(f\"✅ Session started: {boto3_session_id}\")"
   ]
  },
  {
   "cell_type": "code",
   "execution_count": null,
   "metadata": {},
   "outputs": [],
   "source": [
    "# Prepare files to create\n",
    "files_to_create = [\n",
    "    {\n",
    "        \"path\": \"data.csv\",\n",
    "        \"text\": sample_csv_data\n",
    "    },\n",
    "    {\n",
    "        \"path\": \"stats.py\",\n",
    "        \"text\": stats_py_content\n",
    "    },\n",
    "    {\n",
    "        \"path\": \"config.json\",\n",
    "        \"text\": sample_json_data\n",
    "    }\n",
    "]\n",
    "\n",
    "# Write files to the session\n",
    "print(\"\\n📝 Writing files to Code Interpreter session...\")\n",
    "writing_files = call_tool_boto3(boto3_session_id, \"writeFiles\", {\"content\": files_to_create})\n",
    "print(f\"✅ Files written: {json.dumps(writing_files, indent=2)}\")"
   ]
  },
  {
   "cell_type": "code",
   "execution_count": null,
   "metadata": {},
   "outputs": [],
   "source": [
    "# List files to verify\n",
    "print(\"\\n📋 Listing files in session...\")\n",
    "listing_files = call_tool_boto3(boto3_session_id, \"listFiles\", {\"path\": \"\"})\n",
    "print(f\"📁 Files in session: {json.dumps(listing_files, indent=2)}\")"
   ]
  },
  {
   "cell_type": "code",
   "execution_count": null,
   "metadata": {},
   "outputs": [],
   "source": [
    "# Execute the Python script to analyze the CSV data\n",
    "print(\"\\n🔧 Executing analysis script...\")\n",
    "execute_code = call_tool_boto3(boto3_session_id, \"executeCode\", {\n",
    "    \"code\": stats_py_content,\n",
    "    \"language\": \"python\",\n",
    "    \"clearContext\": True\n",
    "})\n",
    "print(f\"📊 Code execution result: {json.dumps(execute_code, indent=2)}\")"
   ]
  },
  {
   "cell_type": "code",
   "execution_count": null,
   "metadata": {},
   "outputs": [],
   "source": [
    "# Read a file back to verify\n",
    "print(\"\\n📖 Reading config.json to verify...\")\n",
    "read_file = call_tool_boto3(boto3_session_id, \"readFiles\", {\"path\": \"config.json\"})\n",
    "print(f\"📄 File content: {json.dumps(read_file, indent=2)}\")"
   ]
  },
  {
   "cell_type": "code",
   "execution_count": null,
   "metadata": {},
   "outputs": [],
   "source": [
    "# Clean up boto3 session\n",
    "bedrock_agentcore_client.stop_code_interpreter_session(\n",
    "    codeInterpreterIdentifier=\"aws.codeinterpreter.v1\",\n",
    "    sessionId=boto3_session_id\n",
    ")\n",
    "print(f\"\\n✅ Boto3 session {boto3_session_id} stopped\")"
   ]
  },
  {
   "cell_type": "markdown",
   "metadata": {},
   "source": [
    "## 🔧 Section 4: File Operations with AgentCore SDK\n",
    "\n",
    "This section demonstrates the same file operations using the AgentCore SDK's higher-level interface."
   ]
  },
  {
   "cell_type": "code",
   "execution_count": null,
   "metadata": {},
   "outputs": [],
   "source": [
    "# Configure and start the code interpreter session\n",
    "print(\"🚀 Starting AgentCore SDK Code Interpreter session...\")\n",
    "code_client = CodeInterpreter(region_name)\n",
    "code_client.start()\n",
    "print(\"✅ AgentCore SDK session started\")"
   ]
  },
  {
   "cell_type": "code",
   "execution_count": null,
   "metadata": {},
   "outputs": [],
   "source": [
    "# Define the method to call the invoke API (following the example pattern)\n",
    "def call_tool(tool_name: str, arguments: Dict[str, Any]) -> Dict[str, Any]:\n",
    "    \"\"\"Helper function to call Code Interpreter tools using SDK\"\"\"\n",
    "    response = code_client.invoke(tool_name, arguments)\n",
    "    for event in response[\"stream\"]:\n",
    "        return json.dumps(event[\"result\"], indent=2)"
   ]
  },
  {
   "cell_type": "code",
   "execution_count": null,
   "metadata": {},
   "outputs": [],
   "source": [
    "# Write the sample data and analysis script into the code interpreter session\n",
    "print(\"\\n📝 Writing files using SDK...\")\n",
    "writing_files = call_tool(\"writeFiles\", {\"content\": files_to_create})\n",
    "print(f\"✅ Files written: {writing_files}\")"
   ]
  },
  {
   "cell_type": "code",
   "execution_count": null,
   "metadata": {},
   "outputs": [],
   "source": [
    "# List and validate that the files were written successfully\n",
    "print(\"\\n📋 Listing files using SDK...\")\n",
    "listing_files = call_tool(\"listFiles\", {\"path\": \"\"})\n",
    "print(f\"📁 Files in session: {listing_files}\")"
   ]
  },
  {
   "cell_type": "code",
   "execution_count": null,
   "metadata": {},
   "outputs": [],
   "source": [
    "# Run the python script to analyze the sample data file\n",
    "print(\"\\n🔧 Executing analysis script using SDK...\")\n",
    "execute_code = call_tool(\"executeCode\", {\n",
    "    \"code\": files_to_create[1]['text'],\n",
    "    \"language\": \"python\",\n",
    "    \"clearContext\": True\n",
    "})\n",
    "print(f\"📊 Code execution result: {execute_code}\")"
   ]
  },
  {
   "cell_type": "code",
   "execution_count": null,
   "metadata": {},
   "outputs": [],
   "source": [
    "# Read a file back to verify\n",
    "print(\"\\n📖 Reading config.json using SDK...\")\n",
    "read_file = call_tool(\"readFiles\", {\"path\": \"config.json\"})\n",
    "print(f\"📄 File content: {read_file}\")"
   ]
  },
  {
   "cell_type": "code",
   "execution_count": null,
   "metadata": {},
   "outputs": [],
   "source": [
    "# Clean up and stop the code interpreter session\n",
    "code_client.stop()\n",
    "print(\"\\n✅ AgentCore SDK session stopped\")"
   ]
  },
  {
   "cell_type": "markdown",
   "metadata": {},
   "source": [
    "## Conclusion\n",
    "\n",
    "In this notebook, we've successfully demonstrated:\n",
    "\n",
    "1. **File Operations with Boto3**:\n",
    "   - Direct API calls to Code Interpreter\n",
    "   - Writing files using `writeFiles`\n",
    "   - Listing files using `listFiles`\n",
    "   - Reading files using `readFile`\n",
    "   - Executing code that processes files\n",
    "\n",
    "2. **File Operations with AgentCore SDK**:\n",
    "   - Higher-level interface for Code Interpreter\n",
    "   - Simplified session management\n",
    "   - Same file operations with cleaner syntax\n",
    "\n",
    "### 📚 Additional Resources\n",
    "\n",
    "- [AWS Bedrock AgentCore Documentation](https://docs.aws.amazon.com/bedrock-agentcore/)\n",
    "- [Code Interpreter API Reference](https://docs.aws.amazon.com/bedrock-agentcore/latest/APIReference/)\n",
    "- [Module 3 Other Notebooks](../README.md)\n",
    "\n",
    "Happy coding! 🎉"
   ]
  }
 ],
 "metadata": {
  "kernelspec": {
   "display_name": "Python 3 (ipykernel)",
   "language": "python",
   "name": "python3"
  },
  "language_info": {
   "codemirror_mode": {
    "name": "ipython",
    "version": 3
   },
   "file_extension": ".py",
   "mimetype": "text/x-python",
   "name": "python",
   "nbconvert_exporter": "python",
   "pygments_lexer": "ipython3",
   "version": "3.12.8"
  }
 },
 "nbformat": 4,
 "nbformat_minor": 4
}
